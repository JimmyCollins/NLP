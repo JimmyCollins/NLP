{
 "cells": [
  {
   "cell_type": "markdown",
   "metadata": {},
   "source": [
    "### Building a Dataset from Twitter"
   ]
  },
  {
   "cell_type": "code",
   "execution_count": 55,
   "metadata": {},
   "outputs": [],
   "source": [
    "from textblob import TextBlob\n",
    "import tweepy\n",
    "import nltk\n",
    "import pandas as pd"
   ]
  },
  {
   "cell_type": "code",
   "execution_count": 56,
   "metadata": {},
   "outputs": [],
   "source": [
    "# Your Twitter app credentials need to be added here - go to https://developer.twitter.com/en/apps\n",
    "consumer_key = '[consumer_key]'\n",
    "consumer_key_secret = '[consumer_key_secret]'\n",
    "access_token = '[access_token]'\n",
    "access_token_secret = '[access_token_secret]'"
   ]
  },
  {
   "cell_type": "code",
   "execution_count": 57,
   "metadata": {},
   "outputs": [],
   "source": [
    "twitter_auth = tweepy.OAuthHandler(consumer_key, consumer_key_secret)"
   ]
  },
  {
   "cell_type": "code",
   "execution_count": 58,
   "metadata": {},
   "outputs": [],
   "source": [
    "api = tweepy.API(twitter_auth)"
   ]
  },
  {
   "cell_type": "code",
   "execution_count": 59,
   "metadata": {},
   "outputs": [],
   "source": [
    "# Let's grab a bunch of tweets about Leo Varadker, limited to 100 tweets\n",
    "tweets = api.search(\"varadkar\", count=100)"
   ]
  },
  {
   "cell_type": "code",
   "execution_count": 60,
   "metadata": {},
   "outputs": [
    {
     "data": {
      "text/html": [
       "<div>\n",
       "<style scoped>\n",
       "    .dataframe tbody tr th:only-of-type {\n",
       "        vertical-align: middle;\n",
       "    }\n",
       "\n",
       "    .dataframe tbody tr th {\n",
       "        vertical-align: top;\n",
       "    }\n",
       "\n",
       "    .dataframe thead th {\n",
       "        text-align: right;\n",
       "    }\n",
       "</style>\n",
       "<table border=\"1\" class=\"dataframe\">\n",
       "  <thead>\n",
       "    <tr style=\"text-align: right;\">\n",
       "      <th></th>\n",
       "      <th>tweet_text</th>\n",
       "      <th>sentiment</th>\n",
       "      <th>followers_count</th>\n",
       "      <th>friends_count</th>\n",
       "      <th>account_age</th>\n",
       "      <th>verified</th>\n",
       "      <th>favourites_count</th>\n",
       "      <th>tweets</th>\n",
       "    </tr>\n",
       "  </thead>\n",
       "  <tbody>\n",
       "    <tr>\n",
       "      <th>0</th>\n",
       "      <td>RT @VictoryFound: Leo Varadkar's response to M...</td>\n",
       "      <td>(0.25, 0.675)</td>\n",
       "      <td>60</td>\n",
       "      <td>161</td>\n",
       "      <td>2018-09-26 14:31:37</td>\n",
       "      <td>False</td>\n",
       "      <td>5893</td>\n",
       "      <td>839</td>\n",
       "    </tr>\n",
       "    <tr>\n",
       "      <th>1</th>\n",
       "      <td>RT @liamkiernan59: How Leo Varadkar sees Irela...</td>\n",
       "      <td>(0.0, 0.0)</td>\n",
       "      <td>60</td>\n",
       "      <td>161</td>\n",
       "      <td>2018-09-26 14:31:37</td>\n",
       "      <td>False</td>\n",
       "      <td>5893</td>\n",
       "      <td>839</td>\n",
       "    </tr>\n",
       "    <tr>\n",
       "      <th>2</th>\n",
       "      <td>Must be nice, Matt. Meanwhile, I'm deciding wh...</td>\n",
       "      <td>(0.6, 1.0)</td>\n",
       "      <td>887</td>\n",
       "      <td>613</td>\n",
       "      <td>2017-11-24 05:09:28</td>\n",
       "      <td>False</td>\n",
       "      <td>2417</td>\n",
       "      <td>2248</td>\n",
       "    </tr>\n",
       "    <tr>\n",
       "      <th>3</th>\n",
       "      <td>RT @BrianDBourke: After giving themselves 3 ra...</td>\n",
       "      <td>(0.25, 0.25)</td>\n",
       "      <td>391</td>\n",
       "      <td>594</td>\n",
       "      <td>2013-04-17 18:23:45</td>\n",
       "      <td>False</td>\n",
       "      <td>11983</td>\n",
       "      <td>4177</td>\n",
       "    </tr>\n",
       "    <tr>\n",
       "      <th>4</th>\n",
       "      <td>RT @Astraea1974: Didn’t take him long to retur...</td>\n",
       "      <td>(-0.05, 0.4)</td>\n",
       "      <td>640</td>\n",
       "      <td>2348</td>\n",
       "      <td>2019-12-31 00:30:17</td>\n",
       "      <td>False</td>\n",
       "      <td>21555</td>\n",
       "      <td>7554</td>\n",
       "    </tr>\n",
       "  </tbody>\n",
       "</table>\n",
       "</div>"
      ],
      "text/plain": [
       "                                          tweet_text      sentiment  \\\n",
       "0  RT @VictoryFound: Leo Varadkar's response to M...  (0.25, 0.675)   \n",
       "1  RT @liamkiernan59: How Leo Varadkar sees Irela...     (0.0, 0.0)   \n",
       "2  Must be nice, Matt. Meanwhile, I'm deciding wh...     (0.6, 1.0)   \n",
       "3  RT @BrianDBourke: After giving themselves 3 ra...   (0.25, 0.25)   \n",
       "4  RT @Astraea1974: Didn’t take him long to retur...   (-0.05, 0.4)   \n",
       "\n",
       "  followers_count friends_count         account_age verified favourites_count  \\\n",
       "0              60           161 2018-09-26 14:31:37    False             5893   \n",
       "1              60           161 2018-09-26 14:31:37    False             5893   \n",
       "2             887           613 2017-11-24 05:09:28    False             2417   \n",
       "3             391           594 2013-04-17 18:23:45    False            11983   \n",
       "4             640          2348 2019-12-31 00:30:17    False            21555   \n",
       "\n",
       "  tweets  \n",
       "0    839  \n",
       "1    839  \n",
       "2   2248  \n",
       "3   4177  \n",
       "4   7554  "
      ]
     },
     "execution_count": 60,
     "metadata": {},
     "output_type": "execute_result"
    }
   ],
   "source": [
    "# Storing a bunch of features from the tweets that may be useful for ML later\n",
    "df = pd.DataFrame(columns=('tweet_text', 'sentiment',\n",
    "                           'followers_count', 'friends_count',\n",
    "                           'account_age', 'verified',\n",
    "                           'favourites_count', 'tweets'))\n",
    "\n",
    "for tweet in tweets:\n",
    "    sentimentText = TextBlob(tweet.text)\n",
    "    df = df.append({'tweet_text': tweet.text, 'sentiment': sentimentText.sentiment,\n",
    "                    'followers_count': tweet.user.followers_count, \n",
    "                    'friends_count': tweet.user.friends_count,\n",
    "                    'account_age': tweet.user.created_at,  # TODO: Convert to number of days since account creation\n",
    "                    'verified': tweet.user.verified,\n",
    "                    'favourites_count': tweet.user.favourites_count,\n",
    "                    'tweets': tweet.user.statuses_count},\n",
    "                   ignore_index=True)\n",
    "    \n",
    "df.head()"
   ]
  },
  {
   "cell_type": "code",
   "execution_count": null,
   "metadata": {},
   "outputs": [],
   "source": []
  }
 ],
 "metadata": {
  "kernelspec": {
   "display_name": "Python 3",
   "language": "python",
   "name": "python3"
  },
  "language_info": {
   "codemirror_mode": {
    "name": "ipython",
    "version": 3
   },
   "file_extension": ".py",
   "mimetype": "text/x-python",
   "name": "python",
   "nbconvert_exporter": "python",
   "pygments_lexer": "ipython3",
   "version": "3.7.6"
  }
 },
 "nbformat": 4,
 "nbformat_minor": 4
}
